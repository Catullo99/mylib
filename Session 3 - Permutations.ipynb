{
 "cells": [
  {
   "cell_type": "code",
   "execution_count": 1,
   "metadata": {
    "collapsed": true,
    "deletable": true,
    "editable": true
   },
   "outputs": [],
   "source": [
    "def my_permute(list): #donne toutes les permutations sous forme de liste de la liste de input\n",
    "    lon = len(list)\n",
    "    if lon == 0:\n",
    "        out = 'wrong'\n",
    "    elif lon == 1:\n",
    "        out = [list]\n",
    "    else:\n",
    "        out = []\n",
    "        for i in range(lon):\n",
    "            llist = deepcopy(list)\n",
    "            llist.remove(list[i])\n",
    "            permutee = my_permute(llist)\n",
    "            for elem in permutee:\n",
    "                elem.insert(0,list[i])\n",
    "                out.append(elem)\n",
    "    return out"
   ]
  },
  {
   "cell_type": "code",
   "execution_count": 2,
   "metadata": {
    "collapsed": false,
    "deletable": true,
    "editable": true
   },
   "outputs": [],
   "source": [
    "Liste = [1,2,3]"
   ]
  },
  {
   "cell_type": "code",
   "execution_count": 3,
   "metadata": {
    "collapsed": false,
    "deletable": true,
    "editable": true
   },
   "outputs": [
    {
     "data": {
      "text/plain": [
       "[[1, 2, 3], [1, 3, 2], [2, 1, 3], [2, 3, 1], [3, 1, 2], [3, 2, 1]]"
      ]
     },
     "execution_count": 3,
     "metadata": {},
     "output_type": "execute_result"
    }
   ],
   "source": [
    "my_permute(Liste)"
   ]
  },
  {
   "cell_type": "code",
   "execution_count": 4,
   "metadata": {
    "collapsed": false,
    "deletable": true,
    "editable": true
   },
   "outputs": [],
   "source": [
    "def my_compose_perm(sigma,tau):\n",
    "    lon = len(sigma)\n",
    "    if lon != len(tau):\n",
    "        out = 'these permutations don\\'t belong to the same S_n'\n",
    "    else:\n",
    "        out =[]\n",
    "        for i in range(1,lon+1):\n",
    "            out.append(sigma[tau[i-1]-1])\n",
    "    return out"
   ]
  },
  {
   "cell_type": "code",
   "execution_count": 5,
   "metadata": {
    "collapsed": false,
    "deletable": true,
    "editable": true
   },
   "outputs": [
    {
     "data": {
      "text/plain": [
       "(sigma, tau)"
      ]
     },
     "execution_count": 5,
     "metadata": {},
     "output_type": "execute_result"
    }
   ],
   "source": [
    "var ('sigma','tau')"
   ]
  },
  {
   "cell_type": "code",
   "execution_count": 6,
   "metadata": {
    "collapsed": true,
    "deletable": true,
    "editable": true
   },
   "outputs": [],
   "source": [
    "tau = [2,3,4,1]"
   ]
  },
  {
   "cell_type": "code",
   "execution_count": null,
   "metadata": {
    "collapsed": true
   },
   "outputs": [],
   "source": [
    "s1"
   ]
  },
  {
   "cell_type": "code",
   "execution_count": 7,
   "metadata": {
    "collapsed": true,
    "deletable": true,
    "editable": true
   },
   "outputs": [],
   "source": [
    "sigma = [4,1,2,3]"
   ]
  },
  {
   "cell_type": "code",
   "execution_count": 8,
   "metadata": {
    "collapsed": false,
    "deletable": true,
    "editable": true
   },
   "outputs": [
    {
     "data": {
      "text/plain": [
       "[1, 2, 3, 4]"
      ]
     },
     "execution_count": 8,
     "metadata": {},
     "output_type": "execute_result"
    }
   ],
   "source": [
    "my_compose_perm(sigma,tau)"
   ]
  },
  {
   "cell_type": "code",
   "execution_count": 9,
   "metadata": {
    "collapsed": true,
    "deletable": true,
    "editable": true
   },
   "outputs": [],
   "source": [
    "def find_position(llist,elem):\n",
    "    lon = len(llist)\n",
    "    out = 0\n",
    "    for i in range(lon):\n",
    "        if llist[i] == elem:\n",
    "            out =  i\n",
    "    return out"
   ]
  },
  {
   "cell_type": "code",
   "execution_count": 10,
   "metadata": {
    "collapsed": false,
    "deletable": true,
    "editable": true
   },
   "outputs": [
    {
     "data": {
      "text/plain": [
       "3"
      ]
     },
     "execution_count": 10,
     "metadata": {},
     "output_type": "execute_result"
    }
   ],
   "source": [
    "find_position(sigma,3)"
   ]
  },
  {
   "cell_type": "code",
   "execution_count": 11,
   "metadata": {
    "collapsed": true,
    "deletable": true,
    "editable": true
   },
   "outputs": [],
   "source": [
    "def my_inverse_perm(sigma):\n",
    "    lon = len(sigma)\n",
    "    out = []\n",
    "    for i in range(lon):\n",
    "        out.insert(i,find_position(sigma,i+1)+1)#   [find_position(sigma,sigma[i+1])-1])\n",
    "    return out"
   ]
  },
  {
   "cell_type": "code",
   "execution_count": 12,
   "metadata": {
    "collapsed": false,
    "deletable": true,
    "editable": true
   },
   "outputs": [
    {
     "data": {
      "text/plain": [
       "[4, 1, 2, 3]"
      ]
     },
     "execution_count": 12,
     "metadata": {},
     "output_type": "execute_result"
    }
   ],
   "source": [
    "my_inverse_perm(tau)"
   ]
  },
  {
   "cell_type": "code",
   "execution_count": 13,
   "metadata": {
    "collapsed": true,
    "deletable": true,
    "editable": true
   },
   "outputs": [],
   "source": [
    "# cette subroutine détermine si un nombre x est déjà dans une liste de cycles; renvoie 1 en cas affirmatif, 0 sinon\n",
    "def find_in_cycles(permutation,x):\n",
    "    temp_perm = permutation\n",
    "    out = 0\n",
    "    for cycle in temp_perm:\n",
    "        for number in cycle:\n",
    "            if number == x:\n",
    "                out = 1\n",
    "    return out"
   ]
  },
  {
   "cell_type": "code",
   "execution_count": 14,
   "metadata": {
    "collapsed": true,
    "deletable": true,
    "editable": true
   },
   "outputs": [],
   "source": [
    "def my_cycles_perm(sigma):\n",
    "    n = len(sigma)\n",
    "    out = []\n",
    "  #  trace = []\n",
    "   #  for i in range(n):\n",
    "     #   trace.append(0) # la liste \"trace\" sera utilisée pour savoir quels cas qui n'ont pas encore été traités dans la boucle\n",
    "    # counter = n # ce compteur sera utilisé pour compter le nombre de cas encore à traiter\n",
    "    for i in range(1,n+1):\n",
    "        if find_in_cycles(out,i) == 0: # on utilise cette subroutine pour vérifier que le nouveau cycle, qui va commencer par i,\n",
    "                                        # ne soit pas déjà present dans \"out\"\n",
    "            new_cycle = [sigma[i-1]]    # si le cycle de i n'a pas encore été traité, on le traite maintenant: on commence à \n",
    "                                        # construire un nouveau cycle avec l'image de i par sigma\n",
    "            temp_brake = 0            # ce frein servira à terminer le cycle, quand l'image du dernier élement sera le premier\n",
    "                                        # le frein va s'activer, pour sortir de la boucle while\n",
    "            while temp_brake == 0:\n",
    "                last_position = len(new_cycle)                           # ici on vérifie si le cycle s'est bouclé en controlant           \n",
    "                if sigma[new_cycle[last_position-1]-1] == new_cycle[0]:  # l'image du dernier élement\n",
    "                    temp_brake = 1\n",
    "                else:\n",
    "                    new_cycle.append(sigma[new_cycle[last_position-1]-1]) # si le cycle ne s'est pas encore fermé, on y rajoute\n",
    "                                                                            # l'image du dernier élement\n",
    "            out.append(new_cycle) # on rajoute le cycle crée à out\n",
    "    return out"
   ]
  },
  {
   "cell_type": "code",
   "execution_count": 15,
   "metadata": {
    "collapsed": false,
    "deletable": true,
    "editable": true
   },
   "outputs": [
    {
     "data": {
      "text/plain": [
       "[[4, 2, 1], [6, 5, 3]]"
      ]
     },
     "execution_count": 15,
     "metadata": {},
     "output_type": "execute_result"
    }
   ],
   "source": [
    "my_cycles_perm([4,1,6,2,3,5])"
   ]
  },
  {
   "cell_type": "code",
   "execution_count": null,
   "metadata": {
    "collapsed": true
   },
   "outputs": [],
   "source": []
  },
  {
   "cell_type": "code",
   "execution_count": 28,
   "metadata": {
    "collapsed": true,
    "deletable": true,
    "editable": true
   },
   "outputs": [],
   "source": [
    "# défiinissions la fonction qui prend une permutation et qui la transforme en une liste de transpositions telles que, composées\n",
    "# rendent la permutation originnelle\n",
    "# comme, de manière génerale, un cycle (a,b,...,z) peut s'écrire comme la composition des transpositions (a,b),(a,c),...,(a,z),\n",
    "# la fonction va exploiter cette propriété et transformer chaque cycle en une liste de transpositions de cette forme\n",
    "\n",
    "def my_perm_to_transp(sigma):\n",
    "    cycle_sigma = my_cycles_perm(sigma) # nous allons travailler avec la permutation dans sa forme cyclique\n",
    "    out = []\n",
    "    for cycle in cycle_sigma:  # pour chaque cycle, on trouve sa longueur, pour déterminer le nombre de transpositions que nous\n",
    "        cycle_lenght = len(cycle)  # allons créer\n",
    "        for i in range(1,cycle_lenght):\n",
    "                new_transp = [cycle[0],cycle[i]]  #chaque nouvelle transposition est de la forme (premier élement, i-ème element)\n",
    "                out.append(new_transp)\n",
    "    return out"
   ]
  },
  {
   "cell_type": "code",
   "execution_count": 27,
   "metadata": {
    "collapsed": false
   },
   "outputs": [
    {
     "data": {
      "text/plain": [
       "[[3, 2], [3, 5], [3, 4], [3, 1]]"
      ]
     },
     "execution_count": 27,
     "metadata": {},
     "output_type": "execute_result"
    }
   ],
   "source": [
    "sigma = [3,5,2,1,4]\n",
    "\n",
    "my_perm_to_transp(sigma)"
   ]
  },
  {
   "cell_type": "code",
   "execution_count": null,
   "metadata": {
    "collapsed": true
   },
   "outputs": [],
   "source": []
  }
 ],
 "metadata": {
  "kernelspec": {
   "display_name": "SageMath 8.0",
   "language": "",
   "name": "sagemath"
  },
  "language_info": {
   "codemirror_mode": {
    "name": "ipython",
    "version": 2
   },
   "file_extension": ".py",
   "mimetype": "text/x-python",
   "name": "python",
   "nbconvert_exporter": "python",
   "pygments_lexer": "ipython2",
   "version": "2.7.13"
  }
 },
 "nbformat": 4,
 "nbformat_minor": 2
}
