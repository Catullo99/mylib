{
 "cells": [
  {
   "cell_type": "code",
   "execution_count": 1,
   "metadata": {
    "collapsed": false,
    "deletable": true,
    "editable": true
   },
   "outputs": [],
   "source": [
    "var ('f,g,h,i,l,m')\n",
    "a = 3*x\n",
    "b = x\n",
    "f = 3*x^3 -2*x + 1\n",
    "g = x^2 + 1\n",
    "h = 0\n",
    "i = 1*x^4 + 1*x^2 + 1\n",
    "l = x^2 + 1 \n",
    "m = 5\n",
    "quotients = [0]\n",
    "\n",
    "\n",
    "\n",
    "def my_leading_coeff (f):\n",
    "    ff = expand(f)\n",
    "     \n",
    "    if derivative(ff,x) == 0: \n",
    "        return ff\n",
    "    else:\n",
    "        n = ff.degree(x)\n",
    "        out = ff.coefficient(x,n)     \n",
    "    return out \n",
    "\n",
    "\n",
    "def my_divide_polynomials (f,g):\n",
    "    ff = expand(f)\n",
    "    gg = expand(g)\n",
    "      \n",
    "    if gg == 0: return ('Division by 0?')\n",
    "    elif ff == 0: return [0, g]\n",
    "    q = 0\n",
    "    terme = 0\n",
    "    degf = ff.degree(x)\n",
    "    degg = gg.degree(x)\n",
    "    while degf >= degg:\n",
    "          \n",
    "        r = my_leading_coeff(ff)\n",
    "        s = my_leading_coeff(gg)\n",
    "        terme =  (r/s)*x^(degf - degg)\n",
    "        q += terme\n",
    "        ff -= expand(terme*gg)\n",
    "        if ff==0:\n",
    "            degf=-1\n",
    "        else:\n",
    "            degf = ff.degree(x)\n",
    "    qr = [q,ff]\n",
    "    out = qr\n",
    "        \n",
    "    return  out \n",
    "\n",
    "#my gcd for polynomials\n",
    "\n",
    "def my_gcd_for_polynomials (f,g):\n",
    "\n",
    "    ff = expand(f)\n",
    "    gg = expand(g)\n",
    "  \n",
    "    if ff == 0 and gg == 0: return 0 ('dude what')\n",
    "    elif ff == 0 and gg != 0: return gg\n",
    "    elif gg == 0 and ff != 0: return ff\n",
    "    else:\n",
    "        qr = [0]\n",
    "        quotients [0] = qr[0]\n",
    "          \n",
    "        while gg != 0:\n",
    "            qr = my_divide_polynomials(ff,gg)\n",
    "            ff = gg\n",
    "            gg = qr[1]\n",
    "            quotients.append(qr[0])\n",
    "        ff = ff/(my_leading_coeff(ff))\n",
    "        quotients.remove(0)\n",
    "    return ff\n",
    "\n",
    "\n",
    "def quotients_to_yz(quotients):\n",
    "       \n",
    "    k=len(quotients)\n",
    "    if k==1:\n",
    "        out=[0,1]\n",
    "    if k==2:\n",
    "        out=[1,-quotients[0]]\n",
    "    if k>2:\n",
    "        var('ax,bx')\n",
    "          \n",
    "        pout=bx-quotients[1]*(ax-bx*quotients[0])\n",
    "        auxrlist=[ax-bx*quotients[0],bx-quotients[1]*(ax-bx*quotients[0])]\n",
    "        for j in range(k-3):\n",
    "            pout=auxrlist[0]-quotients[j+2]*auxrlist[1]\n",
    "            auxrlist[0]=auxrlist[1]\n",
    "            auxrlist[1]=pout\n",
    "    out=[pout.coefficient(ax,1),pout.coefficient(bx,1)]\n",
    "    reset('ax,bx')\n",
    "    return out\n",
    "\n"
   ]
  },
  {
   "cell_type": "code",
   "execution_count": 8,
   "metadata": {
    "collapsed": false,
    "deletable": true,
    "editable": true
   },
   "outputs": [
    {
     "data": {
      "text/plain": [
       "x"
      ]
     },
     "execution_count": 8,
     "metadata": {},
     "output_type": "execute_result"
    }
   ],
   "source": [
    "my_gcd_for_polynomials(a,b)"
   ]
  },
  {
   "cell_type": "code",
   "execution_count": null,
   "metadata": {
    "collapsed": true,
    "deletable": true,
    "editable": true
   },
   "outputs": [],
   "source": []
  }
 ],
 "metadata": {
  "kernelspec": {
   "display_name": "SageMath 8.0",
   "language": "",
   "name": "sagemath"
  },
  "language_info": {
   "codemirror_mode": {
    "name": "ipython",
    "version": 2
   },
   "file_extension": ".py",
   "mimetype": "text/x-python",
   "name": "python",
   "nbconvert_exporter": "python",
   "pygments_lexer": "ipython2",
   "version": "2.7.13"
  }
 },
 "nbformat": 4,
 "nbformat_minor": 2
}
