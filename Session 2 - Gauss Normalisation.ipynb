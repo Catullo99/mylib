{
 "cells": [
  {
   "cell_type": "code",
   "execution_count": 9,
   "metadata": {
    "collapsed": true
   },
   "outputs": [],
   "source": [
    "matrix_exemple = [[1,2,3,4,0,6],[0,0,0,1,1,0], [6,0,5,6,7,8], [9,10,11,0,1,12]]\n",
    "matrice = deepcopy(matrix_exemple)\n"
   ]
  },
  {
   "cell_type": "code",
   "execution_count": 2,
   "metadata": {
    "collapsed": true
   },
   "outputs": [],
   "source": [
    "#echange les lignes i et j\n",
    "def swap_rows (matrix,i,j):\n",
    "       mat = deepcopy(matrix)\n",
    "       temp_row = mat[i-1]\n",
    "       mat[i-1] = mat[j-1]\n",
    "       mat[j-1] = temp_row\n",
    "       \n",
    "       out = mat\n",
    "       return out"
   ]
  },
  {
   "cell_type": "code",
   "execution_count": null,
   "metadata": {
    "collapsed": true
   },
   "outputs": [],
   "source": []
  },
  {
   "cell_type": "code",
   "execution_count": 3,
   "metadata": {
    "collapsed": true
   },
   "outputs": [],
   "source": [
    "#produit d'une ligne par un réel\n",
    "def rescale_row(matrix,i,alpha):\n",
    "       mat = deepcopy(matrix)\n",
    "       temp_row = mat[i-1]\n",
    "       count = len(temp_row)\n",
    "       count2 = 0\n",
    "       while count2 <= count-1:\n",
    "           temp_row[count2] = temp_row[count2]*alpha\n",
    "           count2 += 1\n",
    "       mat[i-1] = temp_row\n",
    "       out = mat\n",
    "       return out"
   ]
  },
  {
   "cell_type": "code",
   "execution_count": null,
   "metadata": {
    "collapsed": true
   },
   "outputs": [],
   "source": []
  },
  {
   "cell_type": "code",
   "execution_count": 4,
   "metadata": {
    "collapsed": true
   },
   "outputs": [],
   "source": [
    "#combinaison linéaire de i + alpha*j\n",
    "def add_alpha_row_j_to_row_i(matrix,i,j,alpha):\n",
    "       mat = deepcopy(matrix)\n",
    "       row_i = mat[i-1]\n",
    "       row_j = deepcopy(mat[j-1])\n",
    "       count = len(row_i)\n",
    "       while count >= 1:\n",
    "           row_j[count-1] = row_j[count-1]*alpha\n",
    "           count -= 1\n",
    "       count = len(row_i)\n",
    "       while count >= 1:\n",
    "           row_i[count-1] = row_i[count-1] + row_j[count-1]\n",
    "           count -= 1\n",
    "       mat[i-1] = row_i\n",
    "       out = mat\n",
    "       return out"
   ]
  },
  {
   "cell_type": "code",
   "execution_count": null,
   "metadata": {
    "collapsed": true
   },
   "outputs": [],
   "source": []
  },
  {
   "cell_type": "code",
   "execution_count": 5,
   "metadata": {
    "collapsed": true
   },
   "outputs": [],
   "source": [
    "#trouve la première ligne non nulle dans une colonne donnée\n",
    "def find_first_nonzero(matrix,h,j):\n",
    "       mat = deepcopy(matrix)\n",
    "       count1 = deepcopy(h)\n",
    "       control = 0\n",
    "       while count1 <= len(mat) and control == 0:\n",
    "           if mat[count1-1][j-1] != 0:\n",
    "               control = 1\n",
    "           elif mat[count1-1][j-1] == 0: count1 += 1\n",
    "       if control == 0:\n",
    "           out = 0\n",
    "       elif control != 0:\n",
    "           out = count1\n",
    "       return out"
   ]
  },
  {
   "cell_type": "code",
   "execution_count": null,
   "metadata": {
    "collapsed": true
   },
   "outputs": [],
   "source": []
  },
  {
   "cell_type": "code",
   "execution_count": 6,
   "metadata": {
    "collapsed": true
   },
   "outputs": [],
   "source": [
    "#echange une ligne avec la première dont le coefficient est non nul\n",
    "def renormalize_columns(matrix,h,j):\n",
    "       mat = deepcopy(matrix)\n",
    "       k = find_first_nonzero(mat,h,j)\n",
    "       if k!=0:\n",
    "          mat =  swap_rows(mat,k,h)\n",
    "           \n",
    "       out=mat\n",
    "       return out"
   ]
  },
  {
   "cell_type": "code",
   "execution_count": null,
   "metadata": {
    "collapsed": true
   },
   "outputs": [],
   "source": []
  },
  {
   "cell_type": "code",
   "execution_count": 7,
   "metadata": {
    "collapsed": true
   },
   "outputs": [],
   "source": [
    "def my_Gauss_elimination(mmatrix):\n",
    "       auxmmatrix=deepcopy(mmatrix)\n",
    "       mm=len(auxmmatrix)                           # mm est le nombre de lignes\n",
    "       nn=len(auxmmatrix[0])                        # nn est le nombre de colonnes\n",
    "       ll=1                                         # ll tient compte des lignes\n",
    "       kk=1                                         # kk tient compte des colonnes\n",
    "       while kk<=nn and ll<=mm:\n",
    "           auxmmatrix=renormalize_columns(auxmmatrix,ll,kk)     # on s'assure d'avoir un coefficient non nul en position (ll,kk)\n",
    "           auxcoeff=auxmmatrix[ll-1][kk-1]\n",
    "           if auxcoeff!=0:\n",
    "               auxmmatrix=rescale_row(auxmmatrix,ll,1/auxcoeff) # on normalise la ligne ll-ème\n",
    "               hh=1\n",
    "               while hh<=mm:                                    # on efface les coefficients dans la colonne kk-ème,\n",
    "                   if hh!=ll:                                   # sauf le coefficient (ll,kk)\n",
    "                       auxcoeff2=auxmmatrix[hh-1][kk-1]\n",
    "                       if auxcoeff2!=0:\n",
    "                           auxmmatrix=add_alpha_row_j_to_row_i(auxmmatrix,hh,ll,-auxcoeff2)\n",
    "                   hh=hh+1\n",
    "               ll=ll+1                              # on passe à la ligne suivante seulement si \"auxcoeff\" n'était pas 0\n",
    "           kk=kk+1                                  # on passe toujours à la colonne suivante\n",
    "       return auxmmatrix\n"
   ]
  },
  {
   "cell_type": "code",
   "execution_count": 8,
   "metadata": {
    "collapsed": false
   },
   "outputs": [
    {
     "data": {
      "text/plain": [
       "[[1, 0, 0, 0, 109/44, -29/22],\n",
       " [0, 1, 0, 0, 81/88, -49/44],\n",
       " [0, 0, 1, 0, -61/22, 35/11],\n",
       " [0, 0, 0, 1, 1, 0]]"
      ]
     },
     "execution_count": 8,
     "metadata": {},
     "output_type": "execute_result"
    }
   ],
   "source": [
    "my_Gauss_elimination(matrice)"
   ]
  },
  {
   "cell_type": "code",
   "execution_count": null,
   "metadata": {
    "collapsed": true
   },
   "outputs": [],
   "source": []
  }
 ],
 "metadata": {
  "kernelspec": {
   "display_name": "SageMath 8.0",
   "language": "",
   "name": "sagemath"
  },
  "language_info": {
   "codemirror_mode": {
    "name": "ipython",
    "version": 2
   },
   "file_extension": ".py",
   "mimetype": "text/x-python",
   "name": "python",
   "nbconvert_exporter": "python",
   "pygments_lexer": "ipython2",
   "version": "2.7.13"
  }
 },
 "nbformat": 4,
 "nbformat_minor": 2
}
